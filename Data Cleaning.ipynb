{
 "cells": [
  {
   "cell_type": "code",
   "execution_count": 1,
   "metadata": {
    "collapsed": true
   },
   "outputs": [],
   "source": [
    "#Import Packages\n",
    "\n",
    "import pandas as pd\n",
    "import numpy as np\n",
    "import seaborn as sns\n",
    "\n",
    "import os\n",
    "\n",
    "%matplotlib inline\n",
    "pd.set_option('display.max_columns', 500)"
   ]
  },
  {
   "cell_type": "markdown",
   "metadata": {},
   "source": [
    "# Users"
   ]
  },
  {
   "cell_type": "code",
   "execution_count": 2,
   "metadata": {
    "collapsed": true
   },
   "outputs": [],
   "source": [
    "#Import the full data\n",
    "dfsmall = pd.read_csv(\"./lastfm-dataset-360k/usersha1-profile.tsv\",sep='\\t',names=['userId','gender','age','country','signupDate'])\n",
    "# data = pd.read_csv(\"./lastfm-dataset-360k/usersha1-artmbid-artname-plays.tsv\",sep='\\t',names=['userId','artistId','artist','plays'])"
   ]
  },
  {
   "cell_type": "markdown",
   "metadata": {},
   "source": [
    "## Make sure data makes sense"
   ]
  },
  {
   "cell_type": "code",
   "execution_count": 3,
   "metadata": {
    "collapsed": false
   },
   "outputs": [
    {
     "data": {
      "text/plain": [
       "count     326572\n",
       "unique         2\n",
       "top            m\n",
       "freq      241642\n",
       "Name: gender, dtype: object"
      ]
     },
     "execution_count": 3,
     "metadata": {},
     "output_type": "execute_result"
    }
   ],
   "source": [
    "# Gender\n",
    "dfsmall.gender.describe()"
   ]
  },
  {
   "cell_type": "code",
   "execution_count": 4,
   "metadata": {
    "collapsed": false
   },
   "outputs": [
    {
     "data": {
      "text/plain": [
       "count    284447.000000\n",
       "mean         25.098046\n",
       "std          21.665742\n",
       "min       -1337.000000\n",
       "25%          20.000000\n",
       "50%          23.000000\n",
       "75%          28.000000\n",
       "max        1002.000000\n",
       "Name: age, dtype: float64"
      ]
     },
     "execution_count": 4,
     "metadata": {},
     "output_type": "execute_result"
    }
   ],
   "source": [
    "# Age\n",
    "dfsmall.age.describe()"
   ]
  },
  {
   "cell_type": "code",
   "execution_count": 6,
   "metadata": {
    "collapsed": true
   },
   "outputs": [],
   "source": [
    "dfsmall.loc[(dfsmall['age'] < 0) | (dfsmall['age'] > 122),['age']] = np.nan #assign NaN in place of unrealistic values"
   ]
  },
  {
   "cell_type": "code",
   "execution_count": 7,
   "metadata": {
    "collapsed": false
   },
   "outputs": [
    {
     "data": {
      "text/plain": [
       "count    284388.000000\n",
       "mean         25.365364\n",
       "std           9.631621\n",
       "min           1.000000\n",
       "25%          20.000000\n",
       "50%          23.000000\n",
       "75%          28.000000\n",
       "max         121.000000\n",
       "Name: age, dtype: float64"
      ]
     },
     "execution_count": 7,
     "metadata": {},
     "output_type": "execute_result"
    }
   ],
   "source": [
    "dfsmall.age.describe()"
   ]
  },
  {
   "cell_type": "code",
   "execution_count": 8,
   "metadata": {
    "collapsed": false
   },
   "outputs": [
    {
     "data": {
      "text/plain": [
       "count            359347\n",
       "unique              239\n",
       "top       United States\n",
       "freq              67044\n",
       "Name: country, dtype: object"
      ]
     },
     "execution_count": 8,
     "metadata": {},
     "output_type": "execute_result"
    }
   ],
   "source": [
    "#country\n",
    "dfsmall.country.describe()"
   ]
  },
  {
   "cell_type": "code",
   "execution_count": 9,
   "metadata": {
    "collapsed": false
   },
   "outputs": [
    {
     "data": {
      "text/plain": [
       "count           359347\n",
       "unique            2298\n",
       "top       Jan 24, 2008\n",
       "freq               569\n",
       "Name: signupDate, dtype: object"
      ]
     },
     "execution_count": 9,
     "metadata": {},
     "output_type": "execute_result"
    }
   ],
   "source": [
    "#signupdate\n",
    "dfsmall.loc['signupDate'] = pd.to_datetime(dfsmall['signupDate'],infer_datetime_format=True)\n",
    "dfsmall.signupDate.describe()"
   ]
  },
  {
   "cell_type": "markdown",
   "metadata": {},
   "source": [
    "### Missing Values\n",
    "I don't think we have enough information to find the missing values. So, we need to keep the dataframe as it is."
   ]
  },
  {
   "cell_type": "code",
   "execution_count": 10,
   "metadata": {
    "collapsed": false
   },
   "outputs": [
    {
     "name": "stdout",
     "output_type": "stream",
     "text": [
      "0.0% of the data from userId column is missing\n",
      "9.12% of the data from gender column is missing\n",
      "20.86% of the data from age column is missing\n",
      "0.0% of the data from country column is missing\n",
      "0.0% of the data from signupDate column is missing\n"
     ]
    }
   ],
   "source": [
    "for column in list(dfsmall.columns):\n",
    "    print (\"{}% of the data from {} column is missing\".format(round(dfsmall[column].isnull().sum() * 100 / len(dfsmall[column]),2), column))"
   ]
  },
  {
   "cell_type": "markdown",
   "metadata": {},
   "source": [
    "# Listening Data"
   ]
  },
  {
   "cell_type": "code",
   "execution_count": 11,
   "metadata": {
    "collapsed": true
   },
   "outputs": [],
   "source": [
    "#Import the full data\n",
    "# dfsmall = pd.read_csv(\"./lastfm-dataset-360k/usersha1-profile.tsv\",sep='\\t',names=['userId','gender','age','country','signupDate'])\n",
    "data = pd.read_csv(\"./lastfm-dataset-360k/usersha1-artmbid-artname-plays.tsv\",sep='\\t',names=['userId','artistId','artist','plays'])"
   ]
  },
  {
   "cell_type": "code",
   "execution_count": 12,
   "metadata": {
    "collapsed": false
   },
   "outputs": [
    {
     "data": {
      "text/html": [
       "<div>\n",
       "<table border=\"1\" class=\"dataframe\">\n",
       "  <thead>\n",
       "    <tr style=\"text-align: right;\">\n",
       "      <th></th>\n",
       "      <th>userId</th>\n",
       "      <th>artistId</th>\n",
       "      <th>artist</th>\n",
       "    </tr>\n",
       "  </thead>\n",
       "  <tbody>\n",
       "    <tr>\n",
       "      <th>count</th>\n",
       "      <td>17535655</td>\n",
       "      <td>17309518</td>\n",
       "      <td>17535653</td>\n",
       "    </tr>\n",
       "    <tr>\n",
       "      <th>unique</th>\n",
       "      <td>358868</td>\n",
       "      <td>160112</td>\n",
       "      <td>292364</td>\n",
       "    </tr>\n",
       "    <tr>\n",
       "      <th>top</th>\n",
       "      <td>13c0df8a58cd3ca9e37d8e90662d2ad3c062eaa5</td>\n",
       "      <td>a74b1b7f-71a5-4011-9441-d0b5e4122711</td>\n",
       "      <td>radiohead</td>\n",
       "    </tr>\n",
       "    <tr>\n",
       "      <th>freq</th>\n",
       "      <td>166</td>\n",
       "      <td>77254</td>\n",
       "      <td>77254</td>\n",
       "    </tr>\n",
       "  </tbody>\n",
       "</table>\n",
       "</div>"
      ],
      "text/plain": [
       "                                          userId  \\\n",
       "count                                   17535655   \n",
       "unique                                    358868   \n",
       "top     13c0df8a58cd3ca9e37d8e90662d2ad3c062eaa5   \n",
       "freq                                         166   \n",
       "\n",
       "                                    artistId     artist  \n",
       "count                               17309518   17535653  \n",
       "unique                                160112     292364  \n",
       "top     a74b1b7f-71a5-4011-9441-d0b5e4122711  radiohead  \n",
       "freq                                   77254      77254  "
      ]
     },
     "execution_count": 12,
     "metadata": {},
     "output_type": "execute_result"
    }
   ],
   "source": [
    "data[['userId','artistId','artist']].describe()"
   ]
  },
  {
   "cell_type": "code",
   "execution_count": 13,
   "metadata": {
    "collapsed": false,
    "scrolled": true
   },
   "outputs": [
    {
     "data": {
      "text/plain": [
       "count    1.753566e+07\n",
       "mean     2.151932e+02\n",
       "std      6.144815e+02\n",
       "min      0.000000e+00\n",
       "25%      3.500000e+01\n",
       "50%      9.400000e+01\n",
       "75%      2.240000e+02\n",
       "max      4.191570e+05\n",
       "Name: plays, dtype: float64"
      ]
     },
     "execution_count": 13,
     "metadata": {},
     "output_type": "execute_result"
    }
   ],
   "source": [
    "data.plays.describe()"
   ]
  },
  {
   "cell_type": "markdown",
   "metadata": {},
   "source": [
    "## Missing Values"
   ]
  },
  {
   "cell_type": "code",
   "execution_count": 14,
   "metadata": {
    "collapsed": false
   },
   "outputs": [
    {
     "name": "stdout",
     "output_type": "stream",
     "text": [
      "0.0% of the data from userId column is missing\n",
      "1.29% of the data from artistId column is missing\n",
      "0.0% of the data from artist column is missing\n",
      "0.0% of the data from plays column is missing\n"
     ]
    }
   ],
   "source": [
    "for column in list(data.columns):\n",
    "    print (\"{}% of the data from {} column is missing\".format(round(data[column].isnull().sum() * 100 / len(data[column]),2), column))"
   ]
  },
  {
   "cell_type": "code",
   "execution_count": 15,
   "metadata": {
    "collapsed": true
   },
   "outputs": [],
   "source": [
    "# Let's drop the rows where artistId is missing\n",
    "data = data.loc[data['artistId'].notnull()]"
   ]
  },
  {
   "cell_type": "code",
   "execution_count": 16,
   "metadata": {
    "collapsed": false
   },
   "outputs": [
    {
     "name": "stdout",
     "output_type": "stream",
     "text": [
      "0.0% of the data from userId column is missing\n",
      "0.0% of the data from artistId column is missing\n",
      "0.0% of the data from artist column is missing\n",
      "0.0% of the data from plays column is missing\n"
     ]
    }
   ],
   "source": [
    "for column in list(data.columns):\n",
    "    print (\"{}% of the data from {} column is missing\".format(round(data[column].isnull().sum() * 100 / len(data[column]),2), column))"
   ]
  },
  {
   "cell_type": "markdown",
   "metadata": {
    "collapsed": true
   },
   "source": [
    "## Merge the datasets"
   ]
  },
  {
   "cell_type": "code",
   "execution_count": 17,
   "metadata": {
    "collapsed": false
   },
   "outputs": [
    {
     "name": "stdout",
     "output_type": "stream",
     "text": [
      "17309518\n"
     ]
    },
    {
     "data": {
      "text/html": [
       "<div>\n",
       "<table border=\"1\" class=\"dataframe\">\n",
       "  <thead>\n",
       "    <tr style=\"text-align: right;\">\n",
       "      <th></th>\n",
       "      <th>userId</th>\n",
       "      <th>artistId</th>\n",
       "      <th>artist</th>\n",
       "      <th>plays</th>\n",
       "      <th>gender</th>\n",
       "      <th>age</th>\n",
       "      <th>country</th>\n",
       "      <th>signupDate</th>\n",
       "    </tr>\n",
       "  </thead>\n",
       "  <tbody>\n",
       "    <tr>\n",
       "      <th>0</th>\n",
       "      <td>00000c289a1829a808ac09c00daf10bc3c4e223b</td>\n",
       "      <td>3bd73256-3905-4f3a-97e2-8b341527f805</td>\n",
       "      <td>betty blowtorch</td>\n",
       "      <td>2137</td>\n",
       "      <td>f</td>\n",
       "      <td>22.0</td>\n",
       "      <td>Germany</td>\n",
       "      <td>Feb 1, 2007</td>\n",
       "    </tr>\n",
       "    <tr>\n",
       "      <th>1</th>\n",
       "      <td>00000c289a1829a808ac09c00daf10bc3c4e223b</td>\n",
       "      <td>f2fb0ff0-5679-42ec-a55c-15109ce6e320</td>\n",
       "      <td>die Ärzte</td>\n",
       "      <td>1099</td>\n",
       "      <td>f</td>\n",
       "      <td>22.0</td>\n",
       "      <td>Germany</td>\n",
       "      <td>Feb 1, 2007</td>\n",
       "    </tr>\n",
       "  </tbody>\n",
       "</table>\n",
       "</div>"
      ],
      "text/plain": [
       "                                     userId  \\\n",
       "0  00000c289a1829a808ac09c00daf10bc3c4e223b   \n",
       "1  00000c289a1829a808ac09c00daf10bc3c4e223b   \n",
       "\n",
       "                               artistId           artist  plays gender   age  \\\n",
       "0  3bd73256-3905-4f3a-97e2-8b341527f805  betty blowtorch   2137      f  22.0   \n",
       "1  f2fb0ff0-5679-42ec-a55c-15109ce6e320        die Ärzte   1099      f  22.0   \n",
       "\n",
       "   country   signupDate  \n",
       "0  Germany  Feb 1, 2007  \n",
       "1  Germany  Feb 1, 2007  "
      ]
     },
     "execution_count": 17,
     "metadata": {},
     "output_type": "execute_result"
    }
   ],
   "source": [
    "# Merge the data\n",
    "data = pd.merge(data, dfsmall, on='userId', how='left')\n",
    "print (len(data))\n",
    "data.head(2)"
   ]
  },
  {
   "cell_type": "code",
   "execution_count": null,
   "metadata": {
    "collapsed": true
   },
   "outputs": [],
   "source": [
    "directory = 'lastfm-dataset-360K-cleaned'\n",
    "\n",
    "if not os.path.exists(directory):\n",
    "    os.makedirs(directory)\n",
    "\n",
    "#Save Cleaned Data\n",
    "data.to_csv('./lastfm-dataset-360k-cleaned/merged-data.csv')"
   ]
  },
  {
   "cell_type": "code",
   "execution_count": 18,
   "metadata": {
    "collapsed": false
   },
   "outputs": [
    {
     "name": "stdout",
     "output_type": "stream",
     "text": [
      "(17309518, 8)\n",
      "(10000, 8)\n"
     ]
    },
    {
     "data": {
      "text/html": [
       "<div>\n",
       "<table border=\"1\" class=\"dataframe\">\n",
       "  <thead>\n",
       "    <tr style=\"text-align: right;\">\n",
       "      <th></th>\n",
       "      <th>userId</th>\n",
       "      <th>artistId</th>\n",
       "      <th>artist</th>\n",
       "      <th>plays</th>\n",
       "      <th>gender</th>\n",
       "      <th>age</th>\n",
       "      <th>country</th>\n",
       "      <th>signupDate</th>\n",
       "    </tr>\n",
       "  </thead>\n",
       "  <tbody>\n",
       "    <tr>\n",
       "      <th>249130</th>\n",
       "      <td>03b9c645bc4f578ea1dcb6a975e7ea71fab79da2</td>\n",
       "      <td>a16371b9-7d36-497a-a9d4-42b0a0440c5e</td>\n",
       "      <td>slowdive</td>\n",
       "      <td>108</td>\n",
       "      <td>m</td>\n",
       "      <td>28.0</td>\n",
       "      <td>Germany</td>\n",
       "      <td>Sep 16, 2006</td>\n",
       "    </tr>\n",
       "    <tr>\n",
       "      <th>16103327</th>\n",
       "      <td>ee48ac7de691d31176a2843d0f2f8f49cab78e6d</td>\n",
       "      <td>5a24bc1a-c093-4a82-84ed-8d7f2da0570d</td>\n",
       "      <td>skinny puppy</td>\n",
       "      <td>407</td>\n",
       "      <td>m</td>\n",
       "      <td>NaN</td>\n",
       "      <td>Canada</td>\n",
       "      <td>Dec 14, 2006</td>\n",
       "    </tr>\n",
       "  </tbody>\n",
       "</table>\n",
       "</div>"
      ],
      "text/plain": [
       "                                            userId  \\\n",
       "249130    03b9c645bc4f578ea1dcb6a975e7ea71fab79da2   \n",
       "16103327  ee48ac7de691d31176a2843d0f2f8f49cab78e6d   \n",
       "\n",
       "                                      artistId        artist  plays gender  \\\n",
       "249130    a16371b9-7d36-497a-a9d4-42b0a0440c5e      slowdive    108      m   \n",
       "16103327  5a24bc1a-c093-4a82-84ed-8d7f2da0570d  skinny puppy    407      m   \n",
       "\n",
       "           age  country    signupDate  \n",
       "249130    28.0  Germany  Sep 16, 2006  \n",
       "16103327   NaN   Canada  Dec 14, 2006  "
      ]
     },
     "execution_count": 18,
     "metadata": {},
     "output_type": "execute_result"
    }
   ],
   "source": [
    "# Subset\n",
    "\n",
    "dfsmall = data.iloc[np.random.choice(data.index,size=10000,replace=False)]\n",
    "print (data.shape)\n",
    "print (dfsmall.shape)\n",
    "dfsmall.head(2)"
   ]
  },
  {
   "cell_type": "code",
   "execution_count": 19,
   "metadata": {
    "collapsed": true
   },
   "outputs": [],
   "source": [
    "directory = 'lastfm-dataset-360k-small'\n",
    "\n",
    "if not os.path.exists(directory):\n",
    "    os.makedirs(directory)\n",
    "\n",
    "dfsmall.to_csv('./lastfm-dataset-360k-small/merged-subset.csv')"
   ]
  }
 ],
 "metadata": {
  "kernelspec": {
   "display_name": "Python 3",
   "language": "python",
   "name": "python3"
  },
  "language_info": {
   "codemirror_mode": {
    "name": "ipython",
    "version": 3
   },
   "file_extension": ".py",
   "mimetype": "text/x-python",
   "name": "python",
   "nbconvert_exporter": "python",
   "pygments_lexer": "ipython3",
   "version": "3.6.0"
  }
 },
 "nbformat": 4,
 "nbformat_minor": 2
}

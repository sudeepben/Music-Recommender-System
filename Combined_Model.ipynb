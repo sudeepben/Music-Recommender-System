{
 "cells": [
  {
   "cell_type": "code",
   "execution_count": 3,
   "metadata": {
    "collapsed": false
   },
   "outputs": [],
   "source": [
    "from numpy import array\n",
    "from math import sqrt\n",
    "import matplotlib.pyplot as plt\n",
    "import numpy as np\n",
    "% matplotlib inline\n",
    "\n",
    "from pyspark import SparkContext\n",
    "from pyspark.mllib.clustering import KMeansModel\n",
    "from pyspark.mllib.recommendation import MatrixFactorizationModel"
   ]
  },
  {
   "cell_type": "code",
   "execution_count": 4,
   "metadata": {
    "collapsed": true
   },
   "outputs": [],
   "source": [
    "sc = SparkContext()"
   ]
  },
  {
   "cell_type": "markdown",
   "metadata": {},
   "source": [
    "### Import the data"
   ]
  },
  {
   "cell_type": "code",
   "execution_count": 25,
   "metadata": {
    "collapsed": true
   },
   "outputs": [],
   "source": [
    "data = sc.textFile('./lastfm-dataset-360k-small/merged-subset2.csv')\n",
    "#Clean the data into proper RDD\n",
    "data = data.map(lambda x: x.split('\\t'))\n",
    "header = data.first()\n",
    "\n",
    "data = data.filter(lambda line: line!=header)\n",
    "data = data.filter(lambda x: (len(x[4]) == 1) & (len(x[5]) > 1))\n",
    "\n",
    "#Define dictionaries and functions to encode the data\n",
    "genderdict = {'m':0,'f':1}\n",
    "\n",
    "countrylist = ['United States', 'Germany', 'United Kingdom', 'Poland', 'Russian Federation', 'Brazil', 'Sweden', 'Spain', 'Finland', 'Netherlands', 'Italy', 'France', 'Canada', 'Australia', 'Turkey', 'Norway', 'Czech Republic', 'Ukraine', 'Japan', 'Belgium', 'Mexico', 'Argentina', 'Switzerland', 'Austria', 'Romania', 'Portugal', 'Bulgaria', 'Chile', 'Denmark', 'Colombia', 'Greece', 'Hungary', 'Latvia', 'Slovakia', 'Croatia', 'Serbia', 'Lithuania', 'Estonia', 'Ireland', 'New Zealand', 'Belarus', 'Israel', 'India', 'Venezuela', 'Indonesia', 'Singapore', 'Slovenia', 'Korea, Republic of', 'China', 'South Africa', 'Malaysia', 'Philippines', 'Peru', 'Thailand', 'Moldova', 'Costa Rica', 'Iceland', 'Taiwan', 'Paraguay', 'Bosnia and Herzegovina', 'Antarctica', 'Puerto Rico', 'Georgia', 'Macedonia', 'Uruguay', 'Honduras', 'Barbados', 'Kazakhstan', 'Andorra', 'Saudi Arabia', 'United States Minor Outlying Islands', 'Djibouti', 'Cocos (Keeling) Islands', 'Tunisia', 'Egypt', 'Bolivia', 'Panama', 'Brunei Darussalam', 'Iran, Islamic Republic of', 'Dominican Republic', 'El Salvador', 'Haiti', 'Ecuador', 'Guatemala', 'Morocco', 'Pakistan', 'Burkina Faso', 'Azerbaijan', 'Cambodia', 'Hong Kong', 'Viet Nam', 'United Arab Emirates', 'Jamaica', 'Faroe Islands', 'Somalia', 'Guinea-Bissau', 'Micronesia, Federated States of', 'Tuvalu', \"Cote D'Ivoire\", 'Libyan Arab Jamahiriya', 'Nicaragua', 'Kyrgyzstan', 'Malta', 'Bermuda', 'Luxembourg', 'Kuwait', 'Cyprus', 'Heard Island and Mcdonald Islands', 'Christmas Island', 'Cuba', 'Niue', 'Aruba', 'Vanuatu', 'Dominica', 'Holy See (Vatican City State)', 'Uzbekistan', 'Bhutan', 'Montenegro', 'Reunion', 'Fiji', 'Netherlands Antilles', 'Lebanon', 'Liechtenstein']\n",
    "countrydict = dict(zip(countrylist, [i for i in range(len(countrylist))]))\n",
    "# print(countrydict)\n",
    "\n",
    "# Define a mapper functions\n",
    "def mapr1(key):\n",
    "    \"\"\" Maps numbers to categories (gender)\"\"\"\n",
    "    return genderdict[key]\n",
    "\n",
    "def mapr2(key):\n",
    "    \"\"\" Maps numbers to categories (country)\"\"\"\n",
    "    return countrydict[key]"
   ]
  },
  {
   "cell_type": "markdown",
   "metadata": {},
   "source": [
    "### Loading the models"
   ]
  },
  {
   "cell_type": "code",
   "execution_count": 8,
   "metadata": {
    "collapsed": true
   },
   "outputs": [],
   "source": [
    "kmeans = KMeansModel.load(sc, \"./model/clustering1\")\n",
    "\n",
    "als = MatrixFactorizationModel.load(sc, \"./model/als\")"
   ]
  },
  {
   "cell_type": "markdown",
   "metadata": {},
   "source": [
    "## Determine top 10 from Clustering"
   ]
  },
  {
   "cell_type": "code",
   "execution_count": 26,
   "metadata": {
    "collapsed": false
   },
   "outputs": [],
   "source": [
    "# Identify and assign clusters\n",
    "data2 = data.map(lambda x: [x, kmeans.predict([mapr1(x[4]), float(x[5]), mapr2(x[6])])])\n",
    "\n",
    "def cluster_extractor(user_id):\n",
    "    \"\"\" This function returns cluster number for a user\"\"\"\n",
    "    \n",
    "    return data2.filter(lambda x: x[0][0] == user_id).map(lambda x: x[1]).first()"
   ]
  },
  {
   "cell_type": "code",
   "execution_count": 27,
   "metadata": {
    "collapsed": false
   },
   "outputs": [],
   "source": [
    "#Input user_id\n",
    "user_id = '03b9c645bc4f578ea1dcb6a975e7ea71fab79da2'\n",
    "\n",
    "cluster_no = cluster_extractor(user_id) #Extract cluster number\n",
    "\n",
    "# Extract top artistIds corresponding to highest scores\n",
    "average = data2.filter(lambda x: x[1] == cluster_no).map(lambda x: (x[0][1], float(x[0][3]))).reduceByKey(lambda x,y : x+y)\n",
    "count = data2.filter(lambda x: x[1] == cluster_no).map(lambda x: (x[0][1], 1)).reduceByKey(lambda x,y : x+y)\n",
    "average = average.join(count).map(lambda x: (x[0], x[1][0]/x[1][1]))\n",
    "\n",
    "#Top 20 Artists for given user\n",
    "top20 = average.map(lambda x: (x[1],x[0])).sortByKey(0, 1).map(lambda x: (x[1],x[0])).take(20)"
   ]
  },
  {
   "cell_type": "code",
   "execution_count": 28,
   "metadata": {
    "collapsed": false
   },
   "outputs": [
    {
     "name": "stdout",
     "output_type": "stream",
     "text": [
      "1) 8613cfbc-0914-49ec-b86a-cd22a7639b3c (8.768539325842697)\n",
      "2) 258797f8-89ee-4d5e-9fd6-7aaac97341cf (8.732962447844228)\n",
      "3) ecf9ac46-dbb5-424c-87a5-be2fce8661c8 (5.963657678780773)\n",
      "4) c80f38a6-9980-485d-997c-5c1a9cbd0d64 (3.117363344051447)\n",
      "5) 95c8b6b7-1e24-4987-804c-024f6b05cd91 (2.7027863777089784)\n",
      "6) b58a2815-9c15-4fc8-b023-9bea7207e877 (2.3704280155642024)\n",
      "7) 22fa6038-d14c-4aab-a057-d397132e9191 (2.1096045197740114)\n",
      "8) a0b2f210-cd3a-453d-937d-e4f2658d17c7 (2.0754189944134076)\n",
      "9) 61ed9c9c-79eb-4e8f-8015-bd599ac0ab49 (2.0582959641255605)\n",
      "10) ac15222f-fb8a-4d2b-b4da-bde1c19f0a9f (1.9716312056737588)\n",
      "11) 8a0e10a9-80c7-40e0-bf5b-89f1d57f9537 (1.7780713342140027)\n",
      "12) 2fddb92d-24b2-46a5-bf28-3aed46f4684c (1.7687237866986218)\n",
      "13) 149e6720-4e4a-41a4-afca-6d29083fc091 (1.6735496558505407)\n",
      "14) 214ffc4e-0b3c-4be1-970f-90893365f3b4 (1.4220921726408193)\n",
      "15) 80b3cf5e-18fe-4c59-98c7-e5bb87210710 (1.407128169979438)\n",
      "16) 5dd0da33-5161-4378-8fca-aecf5840097e (1.3738140417457305)\n",
      "17) 4f005856-fa1e-4525-90db-546998bf3d60 (1.2430875576036866)\n",
      "18) 24295618-32d7-4a6c-a142-98b19d69b89f (1.228855721393035)\n",
      "19) 40b8a690-94e4-4c82-ad0f-73f4b841e46a (1.228409090909091)\n",
      "20) 664c3e0e-42d8-48c1-b209-1efca19c0325 (1.1975518729620565)\n"
     ]
    }
   ],
   "source": [
    "for num, line in enumerate(top20):\n",
    "    print (str(num+1) + \")\", line[0], \"(\" + str(line[1]) + \")\")"
   ]
  },
  {
   "cell_type": "markdown",
   "metadata": {},
   "source": [
    "## Determine top 10 from ALS"
   ]
  },
  {
   "cell_type": "code",
   "execution_count": 31,
   "metadata": {
    "collapsed": false
   },
   "outputs": [],
   "source": [
    "users = data.map(lambda x: x[0]).distinct().zipWithIndex() #Get Index for every user\n",
    "artists = data2.map(lambda x: x[1]).distinct().zipWithIndex() #Get Index for every artist\n",
    "userIndex = users.filter(lambda x: x[0] == user_id).map(lambda x: x[1]).first() #Extract User Index for our user"
   ]
  },
  {
   "cell_type": "code",
   "execution_count": 40,
   "metadata": {
    "collapsed": false
   },
   "outputs": [
    {
     "data": {
      "text/plain": [
       "[Rating(user=3747, product=1334, rating=2771.6630891955137),\n",
       " Rating(user=3747, product=1938, rating=2222.6612352582015),\n",
       " Rating(user=3747, product=4184, rating=2209.5433625711016),\n",
       " Rating(user=3747, product=822, rating=1880.537098058055),\n",
       " Rating(user=3747, product=3803, rating=1376.646465824883),\n",
       " Rating(user=3747, product=2487, rating=1328.1250885405311),\n",
       " Rating(user=3747, product=4861, rating=1214.666309541602),\n",
       " Rating(user=3747, product=573, rating=1182.4156547110183),\n",
       " Rating(user=3747, product=3037, rating=1053.8261828692325),\n",
       " Rating(user=3747, product=1707, rating=1025.907616879555),\n",
       " Rating(user=3747, product=1784, rating=982.2686873411668),\n",
       " Rating(user=3747, product=5214, rating=979.2264717714163),\n",
       " Rating(user=3747, product=2812, rating=964.7943759376794),\n",
       " Rating(user=3747, product=1780, rating=932.0814450548323),\n",
       " Rating(user=3747, product=632, rating=809.8830378330626),\n",
       " Rating(user=3747, product=3342, rating=781.5913862855366),\n",
       " Rating(user=3747, product=4461, rating=771.4616198828558),\n",
       " Rating(user=3747, product=2589, rating=768.7736002486149),\n",
       " Rating(user=3747, product=5086, rating=721.8193004558218),\n",
       " Rating(user=3747, product=452, rating=716.6231222193164)]"
      ]
     },
     "execution_count": 40,
     "metadata": {},
     "output_type": "execute_result"
    }
   ],
   "source": [
    "# Make and print recommendations\n",
    "\n",
    "top20 = als.recommendProducts(userIndex,20)\n",
    "top20[:]"
   ]
  }
 ],
 "metadata": {
  "kernelspec": {
   "display_name": "Python 3",
   "language": "python",
   "name": "python3"
  },
  "language_info": {
   "codemirror_mode": {
    "name": "ipython",
    "version": 3
   },
   "file_extension": ".py",
   "mimetype": "text/x-python",
   "name": "python",
   "nbconvert_exporter": "python",
   "pygments_lexer": "ipython3",
   "version": "3.6.0"
  }
 },
 "nbformat": 4,
 "nbformat_minor": 2
}

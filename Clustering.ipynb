{
 "cells": [
  {
   "cell_type": "code",
   "execution_count": 1,
   "metadata": {
    "collapsed": true
   },
   "outputs": [],
   "source": [
    "from numpy import array\n",
    "from math import sqrt\n",
    "import matplotlib.pyplot as plt\n",
    "import numpy as np\n",
    "% matplotlib inline\n",
    "\n",
    "from pyspark import SparkContext\n",
    "from pyspark.mllib.clustering import KMeans, KMeansModel"
   ]
  },
  {
   "cell_type": "code",
   "execution_count": 2,
   "metadata": {
    "collapsed": true
   },
   "outputs": [],
   "source": [
    "sc = SparkContext()"
   ]
  },
  {
   "cell_type": "code",
   "execution_count": 3,
   "metadata": {
    "collapsed": false
   },
   "outputs": [
    {
     "data": {
      "text/plain": [
       "['userId\\tartistId\\tartist\\tplays\\tgender\\tage\\tcountry\\tsignupDate',\n",
       " '03b9c645bc4f578ea1dcb6a975e7ea71fab79da2\\ta16371b9-7d36-497a-a9d4-42b0a0440c5e\\tslowdive\\t0.08359133126934984\\tm\\t28.0\\tGermany\\t2006-09-16']"
      ]
     },
     "execution_count": 3,
     "metadata": {},
     "output_type": "execute_result"
    }
   ],
   "source": [
    "# Load and parse the data\n",
    "data = sc.textFile('./lastfm-dataset-360k-small/merged-subset2.csv')\n",
    "data.take(2)"
   ]
  },
  {
   "cell_type": "markdown",
   "metadata": {},
   "source": [
    "How the data should look like - [array([ 0.,  0.,  0.]), array([ 0.1,  0.1,  0.1])]\n",
    "\n",
    "### Make a list from every line"
   ]
  },
  {
   "cell_type": "code",
   "execution_count": 4,
   "metadata": {
    "collapsed": false
   },
   "outputs": [],
   "source": [
    "data = data.map(lambda x: x.split('\\t'))\n",
    "header = data.first()"
   ]
  },
  {
   "cell_type": "markdown",
   "metadata": {},
   "source": [
    "### Clean Data"
   ]
  },
  {
   "cell_type": "code",
   "execution_count": 5,
   "metadata": {
    "collapsed": false
   },
   "outputs": [
    {
     "name": "stdout",
     "output_type": "stream",
     "text": [
      "length of uncleaned data - 10000\n"
     ]
    }
   ],
   "source": [
    "#Remove header\n",
    "data2 = data.filter(lambda line: line!=header)\n",
    "# x[3] --> plays/day; x[4] --> gender; x[5] --> age; x[6] --> Country\n",
    "print (\"length of uncleaned data -\",data2.count())\n",
    "# data2.map(lambda x : len(x[1])).collect()\n",
    "# data2 = data2.filter(lambda x : len(x[1]) == 36) #Clean data - remove artists without artistId"
   ]
  },
  {
   "cell_type": "code",
   "execution_count": 6,
   "metadata": {
    "collapsed": false
   },
   "outputs": [
    {
     "data": {
      "text/plain": [
       "['03b9c645bc4f578ea1dcb6a975e7ea71fab79da2',\n",
       " 'a16371b9-7d36-497a-a9d4-42b0a0440c5e',\n",
       " 'slowdive',\n",
       " '0.08359133126934984',\n",
       " 'm',\n",
       " '28.0',\n",
       " 'Germany',\n",
       " '2006-09-16']"
      ]
     },
     "execution_count": 6,
     "metadata": {},
     "output_type": "execute_result"
    }
   ],
   "source": [
    "data2.first()"
   ]
  },
  {
   "cell_type": "markdown",
   "metadata": {},
   "source": [
    "### Filter the data"
   ]
  },
  {
   "cell_type": "code",
   "execution_count": 7,
   "metadata": {
    "collapsed": false
   },
   "outputs": [
    {
     "data": {
      "text/plain": [
       "7492"
      ]
     },
     "execution_count": 7,
     "metadata": {},
     "output_type": "execute_result"
    }
   ],
   "source": [
    "# data2.map(lambda x: x[4]).filter(lambda x: len(x) != 1).count()\n",
    "# data2.map(lambda x: x[5]).filter(lambda x: len(x) < 1).count()\n",
    "# data2.map(lambda x: x[6]).filter(lambda x: len(x) < 1).count()\n",
    "\n",
    "data3 = data2.filter(lambda x: (len(x[4]) == 1) & (len(x[5]) > 1))\n",
    "data3.count()"
   ]
  },
  {
   "cell_type": "markdown",
   "metadata": {},
   "source": [
    "### Encode the data"
   ]
  },
  {
   "cell_type": "code",
   "execution_count": 8,
   "metadata": {
    "collapsed": false
   },
   "outputs": [],
   "source": [
    "genderdict = {'m':0,'f':1}\n",
    "\n",
    "countrylist = ['United States', 'Germany', 'United Kingdom', 'Poland', 'Russian Federation', 'Brazil', 'Sweden', 'Spain', 'Finland', 'Netherlands', 'Italy', 'France', 'Canada', 'Australia', 'Turkey', 'Norway', 'Czech Republic', 'Ukraine', 'Japan', 'Belgium', 'Mexico', 'Argentina', 'Switzerland', 'Austria', 'Romania', 'Portugal', 'Bulgaria', 'Chile', 'Denmark', 'Colombia', 'Greece', 'Hungary', 'Latvia', 'Slovakia', 'Croatia', 'Serbia', 'Lithuania', 'Estonia', 'Ireland', 'New Zealand', 'Belarus', 'Israel', 'India', 'Venezuela', 'Indonesia', 'Singapore', 'Slovenia', 'Korea, Republic of', 'China', 'South Africa', 'Malaysia', 'Philippines', 'Peru', 'Thailand', 'Moldova', 'Costa Rica', 'Iceland', 'Taiwan', 'Paraguay', 'Bosnia and Herzegovina', 'Antarctica', 'Puerto Rico', 'Georgia', 'Macedonia', 'Uruguay', 'Honduras', 'Barbados', 'Kazakhstan', 'Andorra', 'Saudi Arabia', 'United States Minor Outlying Islands', 'Djibouti', 'Cocos (Keeling) Islands', 'Tunisia', 'Egypt', 'Bolivia', 'Panama', 'Brunei Darussalam', 'Iran, Islamic Republic of', 'Dominican Republic', 'El Salvador', 'Haiti', 'Ecuador', 'Guatemala', 'Morocco', 'Pakistan', 'Burkina Faso', 'Azerbaijan', 'Cambodia', 'Hong Kong', 'Viet Nam', 'United Arab Emirates', 'Jamaica', 'Faroe Islands', 'Somalia', 'Guinea-Bissau', 'Micronesia, Federated States of', 'Tuvalu', \"Cote D'Ivoire\", 'Libyan Arab Jamahiriya', 'Nicaragua', 'Kyrgyzstan', 'Malta', 'Bermuda', 'Luxembourg', 'Kuwait', 'Cyprus', 'Heard Island and Mcdonald Islands', 'Christmas Island', 'Cuba', 'Niue', 'Aruba', 'Vanuatu', 'Dominica', 'Holy See (Vatican City State)', 'Uzbekistan', 'Bhutan', 'Montenegro', 'Reunion', 'Fiji', 'Netherlands Antilles', 'Lebanon', 'Liechtenstein']\n",
    "countrydict = dict(zip(countrylist, [i for i in range(len(countrylist))]))\n",
    "# print(countrydict)\n",
    "\n",
    "# Define a mapper functions\n",
    "def mapr1(key):\n",
    "    \"\"\" Maps numbers to categories (gender)\"\"\"\n",
    "    return genderdict[key]\n",
    "\n",
    "def mapr2(key):\n",
    "    \"\"\" Maps numbers to categories (country)\"\"\"\n",
    "    return countrydict[key]"
   ]
  },
  {
   "cell_type": "code",
   "execution_count": 9,
   "metadata": {
    "collapsed": false
   },
   "outputs": [
    {
     "data": {
      "text/plain": [
       "7492"
      ]
     },
     "execution_count": 9,
     "metadata": {},
     "output_type": "execute_result"
    }
   ],
   "source": [
    "data4 = data3.map(lambda x: [mapr1(x[4]), float(x[5]), mapr2(x[6])])\n",
    "\n",
    "data4.count()"
   ]
  },
  {
   "cell_type": "markdown",
   "metadata": {},
   "source": [
    "### Clustering"
   ]
  },
  {
   "cell_type": "code",
   "execution_count": 10,
   "metadata": {
    "collapsed": false
   },
   "outputs": [],
   "source": [
    "# Evaluate clustering by computing Within Set Sum of Squared Errors\n",
    "def error(point):\n",
    "    center = clusters.centers[clusters.predict(point)]\n",
    "    return sqrt(sum([x**2 for x in (point - center)]))"
   ]
  },
  {
   "cell_type": "code",
   "execution_count": 11,
   "metadata": {
    "collapsed": false
   },
   "outputs": [],
   "source": [
    "# Build the model (cluster the data)\n",
    "kdict = dict.fromkeys(range(2,50)) #initialize dictionary with user_id keys\n",
    "for k in kdict.keys():\n",
    "    clusters = KMeans.train(data4, k, maxIterations=100, initializationMode=\"kmeans||\")\n",
    "#     print (k)\n",
    "    WSSSE = data4.map(lambda point: error(point)).reduce(lambda x, y: x + y) #Within Cluster Sum of Squares\n",
    "    kdict[k] = WSSSE\n",
    "# print(\"Within Set Sum of Squared Error = \" + str(WSSSE))"
   ]
  },
  {
   "cell_type": "code",
   "execution_count": 12,
   "metadata": {
    "collapsed": false
   },
   "outputs": [
    {
     "data": {
      "text/plain": [
       "[<matplotlib.lines.Line2D at 0x844a860>]"
      ]
     },
     "execution_count": 12,
     "metadata": {},
     "output_type": "execute_result"
    },
    {
     "data": {
      "image/png": "[encoded data removed]",
      "text/plain": [
       "<matplotlib.figure.Figure at 0x8466860>"
      ]
     },
     "metadata": {},
     "output_type": "display_data"
    }
   ],
   "source": [
    "plt.plot(list(kdict.keys()),list(kdict.values()), '*-')"
   ]
  },
  {
   "cell_type": "code",
   "execution_count": 13,
   "metadata": {
    "collapsed": false
   },
   "outputs": [
    {
     "name": "stdout",
     "output_type": "stream",
     "text": [
      "34283.92645787765\n"
     ]
    }
   ],
   "source": [
    "k = 10 # number of clusters\n",
    "clusters = KMeans.train(data4, kbest, maxIterations=100, initializationMode=\"kmeans||\")\n",
    "WSSSE = data4.map(lambda point: error(point)).reduce(lambda x, y: x + y) #Within Cluster Sum of Squares\n",
    "print(WSSSE)"
   ]
  },
  {
   "cell_type": "code",
   "execution_count": 14,
   "metadata": {
    "collapsed": false
   },
   "outputs": [
    {
     "data": {
      "text/plain": [
       "[['userId',\n",
       "  'artistId',\n",
       "  'artist',\n",
       "  'plays',\n",
       "  'gender',\n",
       "  'age',\n",
       "  'country',\n",
       "  'signupDate'],\n",
       " ['03b9c645bc4f578ea1dcb6a975e7ea71fab79da2',\n",
       "  'a16371b9-7d36-497a-a9d4-42b0a0440c5e',\n",
       "  'slowdive',\n",
       "  '0.08359133126934984',\n",
       "  'm',\n",
       "  '28.0',\n",
       "  'Germany',\n",
       "  '2006-09-16']]"
      ]
     },
     "execution_count": 14,
     "metadata": {},
     "output_type": "execute_result"
    }
   ],
   "source": [
    "data.take(2)"
   ]
  },
  {
   "cell_type": "code",
   "execution_count": 15,
   "metadata": {
    "collapsed": false
   },
   "outputs": [
    {
     "data": {
      "text/plain": [
       "3"
      ]
     },
     "execution_count": 15,
     "metadata": {},
     "output_type": "execute_result"
    }
   ],
   "source": [
    "clusters.predict([ 0,  28,  67])"
   ]
  },
  {
   "cell_type": "code",
   "execution_count": 31,
   "metadata": {
    "collapsed": false
   },
   "outputs": [],
   "source": [
    "# output = parsedData.map(lambda i: [i, clusters.predict(i)])\n",
    "output = data3.map(lambda x: [x, clusters.predict([mapr1(x[4]), float(x[5]), mapr2(x[6])])])"
   ]
  },
  {
   "cell_type": "code",
   "execution_count": 17,
   "metadata": {
    "collapsed": false
   },
   "outputs": [],
   "source": [
    "# output.take(10)\n",
    "a = np.empty((5,10))"
   ]
  },
  {
   "cell_type": "code",
   "execution_count": 18,
   "metadata": {
    "collapsed": false
   },
   "outputs": [
    {
     "data": {
      "text/plain": [
       "array([  4.61986920e+281,   7.10004881e-154,   2.19529496e-152,\n",
       "         1.14974967e+171,   2.05132425e+161,   2.02439631e-258,\n",
       "         1.32108724e+272,   3.41903149e+228,   3.44568507e+228,\n",
       "         3.30804647e-027])"
      ]
     },
     "execution_count": 18,
     "metadata": {},
     "output_type": "execute_result"
    }
   ],
   "source": [
    "# a[0,:] = [5,2,4,1,3,8,9,7,0,6]\n",
    "# a.sort()\n",
    "a[0,:]"
   ]
  },
  {
   "cell_type": "code",
   "execution_count": 19,
   "metadata": {
    "collapsed": false
   },
   "outputs": [],
   "source": [
    "for j in range(5):\n",
    "    for i in range(10):\n",
    "        clusters = KMeans.train(data4, kbest, maxIterations=100, initializationMode=\"kmeans||\")\n",
    "        output = data4.map(lambda i: [i, clusters.predict(i)])\n",
    "        a[j,i] = output.filter(lambda x: x[1] == i).count()"
   ]
  },
  {
   "cell_type": "code",
   "execution_count": 20,
   "metadata": {
    "collapsed": false
   },
   "outputs": [
    {
     "data": {
      "text/plain": [
       "array([[   33.,    35.,   173.,   325.,   389.,   410.,   420.,   551.,\n",
       "          764.,  1446.],\n",
       "       [   29.,    55.,    57.,   324.,   387.,   683.,  1271.,  1345.,\n",
       "         2543.,  2710.],\n",
       "       [   12.,   134.,   183.,   381.,   464.,   749.,   781.,  1275.,\n",
       "         1297.,  2102.],\n",
       "       [  397.,   427.,   444.,   488.,   631.,  1264.,  1305.,  1345.,\n",
       "         1719.,  2849.],\n",
       "       [   34.,    36.,    74.,   127.,   263.,   433.,   445.,   459.,\n",
       "          741.,  3126.]])"
      ]
     },
     "execution_count": 20,
     "metadata": {},
     "output_type": "execute_result"
    }
   ],
   "source": [
    "a.sort()\n",
    "a #Visualize the cluster sizes formed through each iteration"
   ]
  },
  {
   "cell_type": "code",
   "execution_count": 21,
   "metadata": {
    "collapsed": true
   },
   "outputs": [],
   "source": [
    "#save the model\n",
    "clusters.save(sc, \"./model/clustering1\")"
   ]
  },
  {
   "cell_type": "markdown",
   "metadata": {},
   "source": [
    "### Determine top 20 artists for every cluster"
   ]
  },
  {
   "cell_type": "code",
   "execution_count": 64,
   "metadata": {
    "collapsed": false
   },
   "outputs": [],
   "source": [
    "for i in range(k):\n",
    "    summation = output.filter(lambda x: x[1] == 0).map(lambda x: (x[0][1], float(x[0][3]))).reduceByKey(lambda x,y : x+y)\n",
    "    count = output.filter(lambda x: x[1] == 0).map(lambda x: (x[0][1], 1)).reduceByKey(lambda x,y : x+y)\n",
    "    average = summation.join(count).map(lambda x: (x[0], x[1][0]/x[1][1]))"
   ]
  },
  {
   "cell_type": "code",
   "execution_count": 58,
   "metadata": {
    "collapsed": false
   },
   "outputs": [
    {
     "data": {
      "text/plain": [
       "[('d7ac3cc7-0d65-476b-9b81-d3e872672a2f', 0.9721869110940131),\n",
       " ('592b9a1b-b900-4c1a-a165-bd7e7ce87d23', 0.20020534984733152)]"
      ]
     },
     "execution_count": 58,
     "metadata": {},
     "output_type": "execute_result"
    }
   ],
   "source": []
  },
  {
   "cell_type": "code",
   "execution_count": 63,
   "metadata": {
    "collapsed": false
   },
   "outputs": [
    {
     "data": {
      "text/plain": [
       "[('d7ac3cc7-0d65-476b-9b81-d3e872672a2f', (0.9721869110940131, 2)),\n",
       " ('592b9a1b-b900-4c1a-a165-bd7e7ce87d23', (0.20020534984733152, 2))]"
      ]
     },
     "execution_count": 63,
     "metadata": {},
     "output_type": "execute_result"
    }
   ],
   "source": [
    "average.take(2)"
   ]
  },
  {
   "cell_type": "code",
   "execution_count": 72,
   "metadata": {
    "collapsed": false
   },
   "outputs": [
    {
     "data": {
      "text/plain": [
       "[('c3cceeed-3332-4cf0-8c4c-bbde425147b6', 5.796116504854369),\n",
       " ('b7ffd2af-418f-4be2-bdd1-22f8b48613da', 4.2894736842105265),\n",
       " ('ebfc1398-8d96-47e3-82c3-f782abcdb13d', 3.7221324717285946),\n",
       " ('42689657-cbec-4f66-a9ed-80f939ea23ed', 3.4745762711864407),\n",
       " ('55b92a4f-34eb-4d89-8f84-75812c804ab4', 2.4459567654123298),\n",
       " ('487bfd74-71bf-46dd-b89c-80b7a0f06f2f', 2.3873873873873874),\n",
       " ('f82bcf78-5b69-4622-a5ef-73800768d9ac', 2.3535353535353534),\n",
       " ('1c3919b2-43ca-4a4a-935d-9d50135ec0ef', 2.2062326322925747),\n",
       " ('06aaeca4-2008-4e48-a2bf-119f3d363b4f', 1.9978213507625273),\n",
       " ('cb9b28ec-799f-44d8-a0b2-2eee3e8eb5b1', 1.839907192575406),\n",
       " ('7bbfd77c-1102-4831-9ba8-246fb67460b3', 1.82996803343686),\n",
       " ('067102ea-9519-4622-9077-57ca4164cfbb', 1.6213201575921978),\n",
       " ('125948ec-7f91-4d1a-8b83-accbf50fae3d', 1.597139451728248),\n",
       " ('17167af8-c1da-45cc-bba2-9d23f068b7a3', 1.5411431861131246),\n",
       " ('8c538f11-c141-4588-8ecb-931083524186', 1.5105189679065973),\n",
       " ('674a7e8c-9682-419a-8e05-2358e28b5359', 1.466878313908609),\n",
       " ('820efdc9-3ad8-4893-8172-c9f62ee53a59', 1.463855421686747),\n",
       " ('9390a27f-d63d-43ac-a771-a0e0794fee61', 1.3893939393939394),\n",
       " ('d87e52c5-bb8d-4da8-b941-9f4928627dc8', 1.3546168958742633),\n",
       " ('08f1e9cc-9f22-46f2-9a7b-c6e53e2aa210', 1.347024308466052)]"
      ]
     },
     "execution_count": 72,
     "metadata": {},
     "output_type": "execute_result"
    }
   ],
   "source": [
    "average.map(lambda x: (x[1],x[0])).sortByKey(0, 1).map(lambda x: (x[1],x[0])).take(20)"
   ]
  }
 ],
 "metadata": {
  "kernelspec": {
   "display_name": "Python 3",
   "language": "python",
   "name": "python3"
  },
  "language_info": {
   "codemirror_mode": {
    "name": "ipython",
    "version": 3
   },
   "file_extension": ".py",
   "mimetype": "text/x-python",
   "name": "python",
   "nbconvert_exporter": "python",
   "pygments_lexer": "ipython3",
   "version": "3.6.0"
  }
 },
 "nbformat": 4,
 "nbformat_minor": 2
}

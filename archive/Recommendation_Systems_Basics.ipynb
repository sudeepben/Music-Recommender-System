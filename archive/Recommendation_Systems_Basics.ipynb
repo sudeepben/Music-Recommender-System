{
 "cells": [
  {
   "cell_type": "code",
   "execution_count": 1,
   "metadata": {
    "collapsed": true
   },
   "outputs": [],
   "source": [
    "import numpy as np\n",
    "import pandas as pd\n",
    "\n",
    "# set some print options\n",
    "np.set_printoptions(precision=4)\n",
    "np.set_printoptions(threshold=5)\n",
    "np.set_printoptions(suppress=True)\n",
    "pd.set_option('precision', 3, 'notebook_repr_html', True, )\n",
    "\n",
    "# init random gen\n",
    "np.random.seed(2)"
   ]
  },
  {
   "cell_type": "code",
   "execution_count": 2,
   "metadata": {
    "collapsed": true
   },
   "outputs": [],
   "source": [
    "lastfm = pd.read_csv(\"./lastfm-dataset-360k-small/full.csv\",encoding = \"ISO-8859-1\",index_col=0)"
   ]
  },
  {
   "cell_type": "code",
   "execution_count": 3,
   "metadata": {
    "collapsed": false
   },
   "outputs": [
    {
     "data": {
      "text/html": [
       "<div>\n",
       "<table border=\"1\" class=\"dataframe\">\n",
       "  <thead>\n",
       "    <tr style=\"text-align: right;\">\n",
       "      <th></th>\n",
       "      <th>userId</th>\n",
       "      <th>artistId</th>\n",
       "      <th>artistName</th>\n",
       "      <th>count</th>\n",
       "      <th>gender</th>\n",
       "      <th>age</th>\n",
       "      <th>country</th>\n",
       "      <th>signupDate</th>\n",
       "    </tr>\n",
       "  </thead>\n",
       "  <tbody>\n",
       "    <tr>\n",
       "      <th>0</th>\n",
       "      <td>00000c289a1829a808ac09c00daf10bc3c4e223b</td>\n",
       "      <td>3bd73256-3905-4f3a-97e2-8b341527f805</td>\n",
       "      <td>betty blowtorch</td>\n",
       "      <td>2137</td>\n",
       "      <td>f</td>\n",
       "      <td>22.0</td>\n",
       "      <td>Germany</td>\n",
       "      <td>Feb 1, 2007</td>\n",
       "    </tr>\n",
       "    <tr>\n",
       "      <th>1</th>\n",
       "      <td>00000c289a1829a808ac09c00daf10bc3c4e223b</td>\n",
       "      <td>f2fb0ff0-5679-42ec-a55c-15109ce6e320</td>\n",
       "      <td>die Ärzte</td>\n",
       "      <td>1099</td>\n",
       "      <td>f</td>\n",
       "      <td>22.0</td>\n",
       "      <td>Germany</td>\n",
       "      <td>Feb 1, 2007</td>\n",
       "    </tr>\n",
       "    <tr>\n",
       "      <th>2</th>\n",
       "      <td>00000c289a1829a808ac09c00daf10bc3c4e223b</td>\n",
       "      <td>b3ae82c2-e60b-4551-a76d-6620f1b456aa</td>\n",
       "      <td>melissa etheridge</td>\n",
       "      <td>897</td>\n",
       "      <td>f</td>\n",
       "      <td>22.0</td>\n",
       "      <td>Germany</td>\n",
       "      <td>Feb 1, 2007</td>\n",
       "    </tr>\n",
       "    <tr>\n",
       "      <th>3</th>\n",
       "      <td>00000c289a1829a808ac09c00daf10bc3c4e223b</td>\n",
       "      <td>3d6bbeb7-f90e-4d10-b440-e153c0d10b53</td>\n",
       "      <td>elvenking</td>\n",
       "      <td>717</td>\n",
       "      <td>f</td>\n",
       "      <td>22.0</td>\n",
       "      <td>Germany</td>\n",
       "      <td>Feb 1, 2007</td>\n",
       "    </tr>\n",
       "    <tr>\n",
       "      <th>4</th>\n",
       "      <td>00000c289a1829a808ac09c00daf10bc3c4e223b</td>\n",
       "      <td>bbd2ffd7-17f4-4506-8572-c1ea58c3f9a8</td>\n",
       "      <td>juliette &amp; the licks</td>\n",
       "      <td>706</td>\n",
       "      <td>f</td>\n",
       "      <td>22.0</td>\n",
       "      <td>Germany</td>\n",
       "      <td>Feb 1, 2007</td>\n",
       "    </tr>\n",
       "  </tbody>\n",
       "</table>\n",
       "</div>"
      ],
      "text/plain": [
       "                                     userId  \\\n",
       "0  00000c289a1829a808ac09c00daf10bc3c4e223b   \n",
       "1  00000c289a1829a808ac09c00daf10bc3c4e223b   \n",
       "2  00000c289a1829a808ac09c00daf10bc3c4e223b   \n",
       "3  00000c289a1829a808ac09c00daf10bc3c4e223b   \n",
       "4  00000c289a1829a808ac09c00daf10bc3c4e223b   \n",
       "\n",
       "                               artistId            artistName  count gender  \\\n",
       "0  3bd73256-3905-4f3a-97e2-8b341527f805       betty blowtorch   2137      f   \n",
       "1  f2fb0ff0-5679-42ec-a55c-15109ce6e320             die Ärzte   1099      f   \n",
       "2  b3ae82c2-e60b-4551-a76d-6620f1b456aa     melissa etheridge    897      f   \n",
       "3  3d6bbeb7-f90e-4d10-b440-e153c0d10b53             elvenking    717      f   \n",
       "4  bbd2ffd7-17f4-4506-8572-c1ea58c3f9a8  juliette & the licks    706      f   \n",
       "\n",
       "    age  country   signupDate  \n",
       "0  22.0  Germany  Feb 1, 2007  \n",
       "1  22.0  Germany  Feb 1, 2007  \n",
       "2  22.0  Germany  Feb 1, 2007  \n",
       "3  22.0  Germany  Feb 1, 2007  \n",
       "4  22.0  Germany  Feb 1, 2007  "
      ]
     },
     "execution_count": 3,
     "metadata": {},
     "output_type": "execute_result"
    }
   ],
   "source": [
    "lastfm.head()"
   ]
  },
  {
   "cell_type": "markdown",
   "metadata": {},
   "source": [
    "## Training and Testing\n",
    "Split data into training and testing datasets"
   ]
  },
  {
   "cell_type": "code",
   "execution_count": 5,
   "metadata": {
    "collapsed": false
   },
   "outputs": [
    {
     "name": "stdout",
     "output_type": "stream",
     "text": [
      "(876783, 8)\n",
      "(10000, 8)\n"
     ]
    }
   ],
   "source": [
    "# Subset\n",
    "df = lastfm.ix[np.random.choice(lastfm.index,size=10000,replace=False)]\n",
    "print (lastfm.shape)\n",
    "print (df.shape)"
   ]
  },
  {
   "cell_type": "code",
   "execution_count": 6,
   "metadata": {
    "collapsed": true
   },
   "outputs": [],
   "source": [
    "# Make sure that there are at least two artists per user\n",
    "\n",
    "twousers = pd.value_counts(df.userId, sort=False) > 1\n",
    "twousers2 = twousers[twousers].index\n",
    "\n",
    "df1 = df.select(lambda x: df.loc[x,'userId'] in twousers2)"
   ]
  },
  {
   "cell_type": "code",
   "execution_count": 7,
   "metadata": {
    "collapsed": true
   },
   "outputs": [],
   "source": [
    "def assign_test_set(df):\n",
    "    sampled_ids = np.random.choice(df.index,size = np.int64(np.ceil(df.index.size*0.2)), replace = False)\n",
    "    \n",
    "    df.ix[sampled_ids, 'for_testing'] = True\n",
    "    \n",
    "    return df"
   ]
  },
  {
   "cell_type": "code",
   "execution_count": 8,
   "metadata": {
    "collapsed": true
   },
   "outputs": [],
   "source": [
    "df1['for_testing'] = False\n",
    "grouped = df1.groupby('userId',group_keys=False).apply(assign_test_set)"
   ]
  },
  {
   "cell_type": "code",
   "execution_count": 9,
   "metadata": {
    "collapsed": false
   },
   "outputs": [
    {
     "name": "stdout",
     "output_type": "stream",
     "text": [
      "(2311, 9)\n",
      "(1910, 9)\n",
      "(4221, 9)\n"
     ]
    }
   ],
   "source": [
    "lastfm_train = df1[grouped['for_testing']==False]\n",
    "lastfm_test = df1[grouped['for_testing']==True]\n",
    "print (lastfm_train.shape)\n",
    "print (lastfm_test.shape)\n",
    "print (df1.shape)"
   ]
  },
  {
   "cell_type": "code",
   "execution_count": 10,
   "metadata": {
    "collapsed": false
   },
   "outputs": [
    {
     "data": {
      "text/html": [
       "<div>\n",
       "<table border=\"1\" class=\"dataframe\">\n",
       "  <thead>\n",
       "    <tr style=\"text-align: right;\">\n",
       "      <th></th>\n",
       "      <th>userId</th>\n",
       "      <th>artistId</th>\n",
       "      <th>artistName</th>\n",
       "      <th>count</th>\n",
       "      <th>gender</th>\n",
       "      <th>age</th>\n",
       "      <th>country</th>\n",
       "      <th>signupDate</th>\n",
       "      <th>for_testing</th>\n",
       "    </tr>\n",
       "  </thead>\n",
       "  <tbody>\n",
       "    <tr>\n",
       "      <th>782100</th>\n",
       "      <td>0b735b8d5ef3a2f3d15432587b6b616593b791a2</td>\n",
       "      <td>654188a5-bbfc-41d8-aa27-86a946dfd757</td>\n",
       "      <td>jacek kaczmarski</td>\n",
       "      <td>1137</td>\n",
       "      <td>m</td>\n",
       "      <td>30.0</td>\n",
       "      <td>Poland</td>\n",
       "      <td>Feb 13, 2007</td>\n",
       "      <td>False</td>\n",
       "    </tr>\n",
       "    <tr>\n",
       "      <th>156243</th>\n",
       "      <td>0240c2c817e1ffc630fd3dda3229008d6cf4e87e</td>\n",
       "      <td>72d7d717-0837-4f2a-9641-d0f9fdd3acf7</td>\n",
       "      <td>donovan</td>\n",
       "      <td>198</td>\n",
       "      <td>m</td>\n",
       "      <td>NaN</td>\n",
       "      <td>Australia</td>\n",
       "      <td>Sep 3, 2008</td>\n",
       "      <td>False</td>\n",
       "    </tr>\n",
       "    <tr>\n",
       "      <th>835613</th>\n",
       "      <td>0c4269eab84ac9282cf0a7adb9d10af4b28b9e16</td>\n",
       "      <td>84eac621-1c5a-49a1-9500-555099c6e184</td>\n",
       "      <td>spoon</td>\n",
       "      <td>92</td>\n",
       "      <td>f</td>\n",
       "      <td>21.0</td>\n",
       "      <td>United States</td>\n",
       "      <td>Nov 24, 2006</td>\n",
       "      <td>False</td>\n",
       "    </tr>\n",
       "    <tr>\n",
       "      <th>809846</th>\n",
       "      <td>0bdb1ea4e384ae1f051e6867345a6685cf41754a</td>\n",
       "      <td>c1e5344e-1bff-4727-9417-a4f55e41b5ff</td>\n",
       "      <td>loreena mckennitt</td>\n",
       "      <td>16</td>\n",
       "      <td>f</td>\n",
       "      <td>56.0</td>\n",
       "      <td>Germany</td>\n",
       "      <td>Feb 4, 2008</td>\n",
       "      <td>False</td>\n",
       "    </tr>\n",
       "    <tr>\n",
       "      <th>68317</th>\n",
       "      <td>00f6e6bc791caa7d8e5733259438aa8e298201c1</td>\n",
       "      <td>487bfd74-71bf-46dd-b89c-80b7a0f06f2f</td>\n",
       "      <td>the hives</td>\n",
       "      <td>65</td>\n",
       "      <td>m</td>\n",
       "      <td>NaN</td>\n",
       "      <td>United Kingdom</td>\n",
       "      <td>Apr 7, 2006</td>\n",
       "      <td>False</td>\n",
       "    </tr>\n",
       "  </tbody>\n",
       "</table>\n",
       "</div>"
      ],
      "text/plain": [
       "                                          userId  \\\n",
       "782100  0b735b8d5ef3a2f3d15432587b6b616593b791a2   \n",
       "156243  0240c2c817e1ffc630fd3dda3229008d6cf4e87e   \n",
       "835613  0c4269eab84ac9282cf0a7adb9d10af4b28b9e16   \n",
       "809846  0bdb1ea4e384ae1f051e6867345a6685cf41754a   \n",
       "68317   00f6e6bc791caa7d8e5733259438aa8e298201c1   \n",
       "\n",
       "                                    artistId         artistName  count gender  \\\n",
       "782100  654188a5-bbfc-41d8-aa27-86a946dfd757   jacek kaczmarski   1137      m   \n",
       "156243  72d7d717-0837-4f2a-9641-d0f9fdd3acf7            donovan    198      m   \n",
       "835613  84eac621-1c5a-49a1-9500-555099c6e184              spoon     92      f   \n",
       "809846  c1e5344e-1bff-4727-9417-a4f55e41b5ff  loreena mckennitt     16      f   \n",
       "68317   487bfd74-71bf-46dd-b89c-80b7a0f06f2f          the hives     65      m   \n",
       "\n",
       "         age         country    signupDate for_testing  \n",
       "782100  30.0          Poland  Feb 13, 2007       False  \n",
       "156243   NaN       Australia   Sep 3, 2008       False  \n",
       "835613  21.0   United States  Nov 24, 2006       False  \n",
       "809846  56.0         Germany   Feb 4, 2008       False  \n",
       "68317    NaN  United Kingdom   Apr 7, 2006       False  "
      ]
     },
     "execution_count": 10,
     "metadata": {},
     "output_type": "execute_result"
    }
   ],
   "source": [
    "df1.head()"
   ]
  }
 ],
 "metadata": {
  "kernelspec": {
   "display_name": "Python 3",
   "language": "python",
   "name": "python3"
  },
  "language_info": {
   "codemirror_mode": {
    "name": "ipython",
    "version": 3
   },
   "file_extension": ".py",
   "mimetype": "text/x-python",
   "name": "python",
   "nbconvert_exporter": "python",
   "pygments_lexer": "ipython3",
   "version": "3.6.0"
  }
 },
 "nbformat": 4,
 "nbformat_minor": 2
}

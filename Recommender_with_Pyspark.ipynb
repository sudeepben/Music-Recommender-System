{
 "cells": [
  {
   "cell_type": "code",
   "execution_count": 1,
   "metadata": {
    "collapsed": false
   },
   "outputs": [],
   "source": [
    "import math\n",
    "import re\n",
    "import numpy as np\n",
    "import itertools\n",
    "import datetime\n",
    "\n",
    "from pyspark import SparkContext\n",
    "from pyspark.mllib.recommendation import ALS, MatrixFactorizationModel, Rating"
   ]
  },
  {
   "cell_type": "code",
   "execution_count": 2,
   "metadata": {
    "collapsed": false
   },
   "outputs": [],
   "source": [
    "sc = SparkContext()"
   ]
  },
  {
   "cell_type": "code",
   "execution_count": 7,
   "metadata": {
    "collapsed": false
   },
   "outputs": [],
   "source": [
    "#Select the desired columns\n",
    "data = sc.textFile('./lastfm-dataset-360k-small/merged-subset2.csv')\n",
    "# header = data.take(1)\n",
    "# data.take(5)"
   ]
  },
  {
   "cell_type": "code",
   "execution_count": 8,
   "metadata": {
    "collapsed": false
   },
   "outputs": [
    {
     "name": "stdout",
     "output_type": "stream",
     "text": [
      "['userId', 'artistId', 'artist', 'plays', 'gender', 'age', 'country', 'signupDate']\n"
     ]
    }
   ],
   "source": [
    "data = data.map(lambda x: x.split('\\t'))\n",
    "header = data.first()\n",
    "print(header)"
   ]
  },
  {
   "cell_type": "code",
   "execution_count": 5,
   "metadata": {
    "collapsed": false
   },
   "outputs": [],
   "source": [
    "# data.take(1)\n",
    "# data.filter(lambda x : x != header).take(1)"
   ]
  },
  {
   "cell_type": "code",
   "execution_count": 9,
   "metadata": {
    "collapsed": false
   },
   "outputs": [
    {
     "name": "stdout",
     "output_type": "stream",
     "text": [
      "length of uncleaned data - 10000\n",
      "length of cleaned data - 10000\n",
      "length of filtered data - 10000\n"
     ]
    }
   ],
   "source": [
    "#Remove header\n",
    "data2 = data.filter(lambda line: line!=header)\n",
    "data2 = data2.map(lambda x : [x[i] for i in [0,1,3]])\n",
    "print (\"length of uncleaned data -\",data2.count())\n",
    "# data2.map(lambda x : len(x[1])).collect()\n",
    "# data2 = data2.filter(lambda x : len(x[1]) == 36) #Clean data - remove artists without artistId\n",
    "\n",
    "def isNumber(s):\n",
    "    try:\n",
    "        float(s)\n",
    "        return True\n",
    "    except ValueError:\n",
    "        pass\n",
    " \n",
    "    return False\n",
    "\n",
    "data2 = data2.filter(lambda x: isNumber(x[2])) # Remove faulty rows\n",
    "data2 = data2.map(lambda x: [x[0], x[1], float(x[2])]) #Change plays into float\n",
    "\n",
    "#Filter out values with more than 500 plays (for this sake of simplicity)\n",
    "print (\"length of cleaned data -\",data2.count())\n",
    "# data2 = data2.filter(lambda x : x[2] <= 500)\n",
    "# print (data2.take(2))\n",
    "print (\"length of filtered data -\",data2.count())"
   ]
  },
  {
   "cell_type": "code",
   "execution_count": 10,
   "metadata": {
    "collapsed": false
   },
   "outputs": [],
   "source": [
    "#Convert strings into integers\n",
    "users = data2.map(lambda x: x[0]).distinct().zipWithIndex()\n",
    "artists = data2.map(lambda x: x[1]).distinct().zipWithIndex()\n",
    "# int_user = users.map(lambda u: (u[1], u[0]))\n",
    "# int_artist = artists.map(lambda i: (i[1], i[0]))\n",
    "# users.collect()\n",
    "# artists.collect()"
   ]
  },
  {
   "cell_type": "code",
   "execution_count": null,
   "metadata": {
    "collapsed": false
   },
   "outputs": [],
   "source": [
    "# data2 = data2.map(lambda r: (r[0], (r[1], r[2]))).join(users).map(lambda r: (r[1][1], r[1][0][0], r[1][0][1]))\n",
    "# data2.collect()"
   ]
  },
  {
   "cell_type": "code",
   "execution_count": 11,
   "metadata": {
    "collapsed": false
   },
   "outputs": [],
   "source": [
    "# Substitutes the ObjectIDs in the ratings RDD with the corresponding int values\n",
    "data2 = data2.map(lambda r: (r[0], (r[1], r[2]))).join(users).map(lambda r: (r[1][1], r[1][0][0], r[1][0][1]))\n",
    "data2 = data2.map(lambda r: (r[1], (r[0], r[2]))).join(artists).map(lambda r: (r[1][0][0], r[1][1], r[1][0][1]))"
   ]
  },
  {
   "cell_type": "code",
   "execution_count": 12,
   "metadata": {
    "collapsed": false
   },
   "outputs": [],
   "source": [
    "# data2.filter(lambda x: x[0] == 12).collect()\n",
    "plays = data2.map(lambda x: x[2]).collect()\n",
    "# data2.collect()"
   ]
  },
  {
   "cell_type": "code",
   "execution_count": null,
   "metadata": {
    "collapsed": false
   },
   "outputs": [],
   "source": [
    "# summation = 0\n",
    "# for i in plays:\n",
    "#     summation += i**2\n",
    "# print (np.mean(plays)**2)\n",
    "# summation / len(plays)"
   ]
  },
  {
   "cell_type": "code",
   "execution_count": 13,
   "metadata": {
    "collapsed": false
   },
   "outputs": [
    {
     "data": {
      "text/plain": [
       "10000"
      ]
     },
     "execution_count": 13,
     "metadata": {},
     "output_type": "execute_result"
    }
   ],
   "source": [
    "# Use 'Rating' function to get the values in the right format\n",
    "data2 = data2.map(lambda l: Rating(int(l[0]), int(l[1]), float(l[2])))\n",
    "data2.count()"
   ]
  },
  {
   "cell_type": "code",
   "execution_count": 17,
   "metadata": {
    "collapsed": true
   },
   "outputs": [],
   "source": [
    "# Use randomsplit to split the data into train, validation and testing sets\n",
    "\n",
    "training_RDD, validation_RDD, test_RDD = data2.randomSplit([6, 2, 2],seed=2)\n",
    "validation_for_predict_RDD = validation_RDD.map(lambda x: (x[0], x[1]))\n",
    "test_for_predict_RDD = test_RDD.map(lambda x: (x[0], x[1]))"
   ]
  },
  {
   "cell_type": "code",
   "execution_count": 15,
   "metadata": {
    "collapsed": false
   },
   "outputs": [],
   "source": [
    "# Define computeRMSE\n",
    "\n",
    "def computeRMSE(model,data):\n",
    "    \n",
    "    \"\"\" Takes ALS models and testing data as input and returns RMSE value \"\"\"\n",
    "    \n",
    "    data_for_predict = data.map(lambda x: (x[0], x[1]))\n",
    "    \n",
    "    predictions = model.predictAll(data_for_predict).map(lambda r: ((r[0], r[1]), r[2]))\n",
    "    rates_and_preds = data.map(lambda r: ((int(r[0]), int(r[1])), float(r[2]))).join(predictions)\n",
    "    error = math.sqrt(rates_and_preds.map(lambda r: (r[1][0] - r[1][1])**2).mean())\n",
    "    \n",
    "    return error"
   ]
  },
  {
   "cell_type": "code",
   "execution_count": null,
   "metadata": {
    "collapsed": false
   },
   "outputs": [],
   "source": [
    "# # Train ALS\n",
    "\n",
    "# # Parameters\n",
    "# seed = 5\n",
    "# iterations = [15]\n",
    "# regularization_parameter = [0.1]\n",
    "# ranks = [20]\n",
    "# # errors = [0, 0, 0,0,0]\n",
    "# tolerance = 0.02\n",
    "# alpha = 0.01\n",
    "\n",
    "# #other variables initialized\n",
    "# min_error = float('inf')\n",
    "# bestModel = None\n",
    "# bestValidationRmse = float(\"inf\")\n",
    "# bestRank = 0\n",
    "# bestLambda = -1.0\n",
    "# bestNumIter = -1\n",
    "# err = 0\n",
    "\n",
    "# # Train - Validation loop\n",
    "# for rank, lambda_, iteration in itertools.product(ranks, regularization_parameter, iterations):\n",
    "#     print (rank,lambda_,iteration)\n",
    "\n",
    "#     model = ALS.trainImplicit(training_RDD, rank, seed=seed, iterations=iteration,\n",
    "#                       lambda_=lambda_,alpha=alpha)\n",
    "\n",
    "    \n",
    "    \n",
    "# #     predictions = model.predictAll(validation_for_predict_RDD).map(lambda r: ((r[0], r[1]), r[2]))\n",
    "# #     rates_and_preds = validation_RDD.map(lambda r: ((int(r[0]), int(r[1])), float(r[2]))).join(predictions)\n",
    "# #     error = math.sqrt(rates_and_preds.map(lambda r: (r[1][0] - r[1][1])**2).mean())\n",
    "# #     errors[err] = error\n",
    "# #     err += 1\n",
    "# #     print ('For rank %s the RMSE is %s' % (rank, error))\n",
    "\n",
    "#     RMSE = computeRMSE(model,validation_RDD)\n",
    "    \n",
    "#     if RMSE < bestValidationRmse:\n",
    "#         bestValidationRmse = error\n",
    "#         bestModel = model\n",
    "#         bestRank = rank\n",
    "#         bestLambda = lambda_\n",
    "#         bestNumIter = iteration\n",
    "        \n",
    "#     # Test RMSE\n",
    "#     testRMSE = computeRMSE(model,test_RDD)\n",
    "    \n",
    "    \n",
    "# # evaluate the best model on the test set\n",
    "# print (\"The best model was trained with rank = %d and lambda = %.1f, \" % (bestRank, bestLambda) \\\n",
    "#   + \"and numIter = %d, and its RMSE on the test set is %f.\" % (bestNumIter, testRMSE))\n",
    "\n",
    "# print (\"Average of all ratings -\", validation_RDD.map(lambda x : x[2]).mean())\n",
    "\n",
    "# # print ('The best model was trained with rank %s' % best_rank)"
   ]
  },
  {
   "cell_type": "code",
   "execution_count": 20,
   "metadata": {
    "collapsed": false
   },
   "outputs": [
    {
     "name": "stdout",
     "output_type": "stream",
     "text": [
      "For rank 5 the RMSE is 0.16467579508178784\n",
      "For rank 10 the RMSE is 0.1646758809725997\n",
      "For rank 15 the RMSE is 0.16467539176613402\n",
      "The best model was trained with rank 15\n"
     ]
    }
   ],
   "source": [
    "seed = 5\n",
    "iterations = 10\n",
    "regularization_parameter = 0.1\n",
    "ranks = [5,10,15]\n",
    "errors = [0, 0, 0]\n",
    "err = 0\n",
    "tolerance = 0.02\n",
    "alpha = 0.01\n",
    "\n",
    "min_error = float('inf')\n",
    "best_rank = -1\n",
    "best_iteration = -1\n",
    "for rank in ranks:\n",
    "    e = 0\n",
    "    for i in range(5):\n",
    "        # Split the data\n",
    "        training_RDD, validation_RDD, test_RDD = data2.randomSplit([6, 2, 2])\n",
    "        validation_for_predict_RDD = validation_RDD.map(lambda x: (x[0], x[1]))\n",
    "        test_for_predict_RDD = test_RDD.map(lambda x: (x[0], x[1]))\n",
    "        \n",
    "        model = ALS.trainImplicit(training_RDD, rank, seed=seed, iterations=iterations,\n",
    "                          lambda_=regularization_parameter,alpha=alpha)\n",
    "    #     predictions = model.predictAll(validation_for_predict_RDD).map(lambda r: ((r[0], r[1]), r[2]))\n",
    "    #     rates_and_preds = validation_RDD.map(lambda r: ((int(r[0]), int(r[1])), float(r[2]))).join(predictions)\n",
    "    #     error = math.sqrt(rates_and_preds.map(lambda r: (r[1][0] - r[1][1])**2).mean())\n",
    "        e += computeRMSE(model,validation_RDD)\n",
    "    \n",
    "    error = e/5\n",
    "    errors[err] = error\n",
    "    err += 1\n",
    "    print ('For rank %s the RMSE is %s' % (rank, error))\n",
    "    if error < min_error:\n",
    "        min_error = error\n",
    "        best_rank = rank\n",
    "\n",
    "print ('The best model was trained with rank %s' % best_rank)"
   ]
  },
  {
   "cell_type": "code",
   "execution_count": null,
   "metadata": {
    "collapsed": true
   },
   "outputs": [],
   "source": [
    "# print (bestRank,bestNumIter,bestLambda)"
   ]
  },
  {
   "cell_type": "code",
   "execution_count": null,
   "metadata": {
    "collapsed": false
   },
   "outputs": [],
   "source": [
    "# Final Model\n",
    "\n",
    "model = ALS.train(data2, 15, seed=seed, iterations= iterations,\n",
    "                      lambda_=regularization_parameter)\n",
    "predictions = model.predictAll(validation_for_predict_RDD)"
   ]
  },
  {
   "cell_type": "code",
   "execution_count": null,
   "metadata": {
    "collapsed": false
   },
   "outputs": [],
   "source": [
    "print (validation_RDD.count())\n",
    "print (predictions.count())\n",
    "computeRMSE(model,data2)"
   ]
  },
  {
   "cell_type": "code",
   "execution_count": null,
   "metadata": {
    "collapsed": false
   },
   "outputs": [],
   "source": [
    "recos = model.recommendProducts(3503,20)\n",
    "# recos"
   ]
  },
  {
   "cell_type": "code",
   "execution_count": null,
   "metadata": {
    "collapsed": false
   },
   "outputs": [],
   "source": [
    "scores = []\n",
    "for i in recos:\n",
    "     scores.append(float(i[2]))"
   ]
  },
  {
   "cell_type": "code",
   "execution_count": null,
   "metadata": {
    "collapsed": false
   },
   "outputs": [],
   "source": [
    "predictions.filter(lambda x : x[0] == 3503).collect()"
   ]
  },
  {
   "cell_type": "code",
   "execution_count": null,
   "metadata": {
    "collapsed": false
   },
   "outputs": [],
   "source": [
    "# Save and load model\n",
    "model.save(sc, \"./model/als\")"
   ]
  }
 ],
 "metadata": {
  "kernelspec": {
   "display_name": "Python 3",
   "language": "python",
   "name": "python3"
  },
  "language_info": {
   "codemirror_mode": {
    "name": "ipython",
    "version": 3
   },
   "file_extension": ".py",
   "mimetype": "text/x-python",
   "name": "python",
   "nbconvert_exporter": "python",
   "pygments_lexer": "ipython3",
   "version": "3.6.0"
  }
 },
 "nbformat": 4,
 "nbformat_minor": 2
}
